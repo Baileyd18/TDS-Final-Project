{
 "cells": [
  {
   "cell_type": "code",
   "execution_count": 2,
   "id": "f9b8688c-ae82-474d-9810-ade2b46913d8",
   "metadata": {
    "tags": []
   },
   "outputs": [
    {
     "name": "stdout",
     "output_type": "stream",
     "text": [
      "Result of multiplication: 15\n",
      "Result of addition: 8\n",
      "120 minutes is equal to 2.0 hours.\n"
     ]
    }
   ],
   "source": [
    "# Dilland Bailey TDS Final Project\n",
    "\n",
    "## Introduction\n",
    "# This notebook will serve as a final project for Tools for Data Science\n",
    "\n",
    "## Data Science Languages\n",
    "# 1. Python\n",
    "# 2. R\n",
    "# 3. Julia\n",
    "\n",
    "## Data Science Libraries\n",
    "# 1. NumPy\n",
    "# 2. pandas\n",
    "# 3. Matplotlib\n",
    "\n",
    "## Data Science Tools\n",
    "\n",
    "# | Tool       | Description                  |\n",
    "# |------------|------------------------------|\n",
    "# | Jupyter    | Interactive notebooks        |\n",
    "# | TensorFlow | Machine learning framework   |\n",
    "# | scikit-learn | Machine learning library   |\n",
    "\n",
    "## Arithmetic Expression Examples\n",
    "# We will now explore some basic arithmetic expressions.\n",
    "\n",
    "# Multiply and add numbers\n",
    "a = 5\n",
    "b = 3\n",
    "result_multiply = a * b\n",
    "result_add = a + b\n",
    "print(\"Result of multiplication:\", result_multiply)\n",
    "print(\"Result of addition:\", result_add)\n",
    "\n",
    "# Convert minutes to hours\n",
    "minutes = 120\n",
    "hours = minutes / 60\n",
    "print(minutes, \"minutes is equal to\", hours, \"hours.\")\n",
    "\n",
    "## Objectives\n",
    "# 1. Introduce data science languages and libraries.\n",
    "# 2. Explore basic arithmetic expressions.\n",
    "# 3. Perform simple calculations and conversions.\n",
    "\n",
    "## Author\n",
    "# Dilland Bailey\n",
    "\n"
   ]
  },
  {
   "cell_type": "code",
   "execution_count": null,
   "id": "7de5a160-f062-4cfb-9eba-17f76529f65f",
   "metadata": {},
   "outputs": [],
   "source": []
  }
 ],
 "metadata": {
  "kernelspec": {
   "display_name": "Python",
   "language": "python",
   "name": "conda-env-python-py"
  },
  "language_info": {
   "codemirror_mode": {
    "name": "ipython",
    "version": 3
   },
   "file_extension": ".py",
   "mimetype": "text/x-python",
   "name": "python",
   "nbconvert_exporter": "python",
   "pygments_lexer": "ipython3",
   "version": "3.7.12"
  }
 },
 "nbformat": 4,
 "nbformat_minor": 5
}
