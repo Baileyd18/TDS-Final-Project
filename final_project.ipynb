# Dilland Bailey TDS Final Project

## Introduction
# This notebook will serve as a final project for Tools for Data Science

## Data Science Languages
# 1. Python
# 2. R
# 3. Julia

## Data Science Libraries
# 1. NumPy
# 2. pandas
# 3. Matplotlib

## Data Science Tools

# | Tool       | Description                  |
# |------------|------------------------------|
# | Jupyter    | Interactive notebooks        |
# | TensorFlow | Machine learning framework   |
# | scikit-learn | Machine learning library   |

## Arithmetic Expression Examples
# We will now explore some basic arithmetic expressions.

# Multiply and add numbers
a = 5
b = 3
result_multiply = a * b
result_add = a + b
print("Result of multiplication:", result_multiply)
print("Result of addition:", result_add)

# Convert minutes to hours
minutes = 120
hours = minutes / 60
print(minutes, "minutes is equal to", hours, "hours.")

## Objectives
# 1. Introduce data science languages and libraries.
# 2. Explore basic arithmetic expressions.
# 3. Perform simple calculations and conversions.

## Author
# Dilland Bailey
